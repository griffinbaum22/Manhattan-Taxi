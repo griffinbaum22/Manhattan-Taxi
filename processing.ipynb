{
 "cells": [
  {
   "cell_type": "markdown",
   "metadata": {},
   "source": [
    "# Downloading NYC Yellow Taxi data"
   ]
  },
  {
   "cell_type": "code",
   "execution_count": 1,
   "metadata": {},
   "outputs": [
    {
     "name": "stdout",
     "output_type": "stream",
     "text": [
      "--2020-04-13 16:46:58--  https://s3.amazonaws.com/nyc-tlc/trip+data/yellow_tripdata_2016-01.csv\n",
      "Resolving s3.amazonaws.com (s3.amazonaws.com)... 52.217.9.6\n",
      "Connecting to s3.amazonaws.com (s3.amazonaws.com)|52.217.9.6|:443... connected.\n",
      "HTTP request sent, awaiting response... 200 OK\n",
      "Length: 1708674492 (1.6G) [application/octet-stream]\n",
      "Saving to: ‘yellow_tripdata_2016-01.csv’\n",
      "\n",
      "yellow_tripdata_201 100%[===================>]   1.59G  42.2MB/s    in 27s     \n",
      "\n",
      "2020-04-13 16:47:28 (61.3 MB/s) - ‘yellow_tripdata_2016-01.csv’ saved [1708674492/1708674492]\n",
      "\n"
     ]
    }
   ],
   "source": [
    "!wget https://s3.amazonaws.com/nyc-tlc/trip+data/yellow_tripdata_2016-01.csv"
   ]
  },
  {
   "cell_type": "code",
   "execution_count": 2,
   "metadata": {},
   "outputs": [],
   "source": [
    "import sqlite3\n",
    "\n",
    "conn = sqlite3.connect('nyc_taxi.db')\n",
    "conn.execute('DROP TABLE IF EXISTS nyc_taxi')\n",
    "conn.execute('''CREATE TABLE nyc_taxi AS \n",
    "SELECT\n",
    "  tpep_pickup_datetime AS pickup_datetime,\n",
    "  tpep_dropoff_datetime AS dropoff_datetime,\n",
    "  CAST(pickup_longitude AS DECIMAL) AS pickup_lon,\n",
    "  CAST(pickup_latitude AS DECIMAL) AS pickup_lat,\n",
    "  CAST(dropoff_longitude AS DECIMAL) AS dropoff_lon,\n",
    "  CAST(dropoff_latitude AS DECIMAL) AS dropoff_lat,\n",
    "  CAST(passenger_count AS INTEGER) AS passengers,\n",
    "  CAST(trip_distance AS DECIMAL) AS distance,\n",
    "  CAST(ROUND((JULIANDAY(tpep_dropoff_datetime)-JULIANDAY(tpep_pickup_datetime))*24*60*60) AS INTEGER) AS duration\n",
    "FROM t\n",
    "ORDER BY RANDOM()\n",
    "LIMIT 100000\n",
    "''')"
   ]
  },
  {
   "cell_type": "code",
   "execution_count": 3,
   "metadata": {},
   "outputs": [],
   "source": [
    "conn.execute('drop table t')\n",
    "conn.execute('VACUUM')\n",
    "conn.close()"
   ]
  }
 ],
 "metadata": {
  "kernelspec": {
   "display_name": "Python 3",
   "language": "python",
   "name": "python3"
  },
  "language_info": {
   "codemirror_mode": {
    "name": "ipython",
    "version": 3
   },
   "file_extension": ".py",
   "mimetype": "text/x-python",
   "name": "python",
   "nbconvert_exporter": "python",
   "pygments_lexer": "ipython3",
   "version": "3.7.6"
  }
 },
 "nbformat": 4,
 "nbformat_minor": 2
}
