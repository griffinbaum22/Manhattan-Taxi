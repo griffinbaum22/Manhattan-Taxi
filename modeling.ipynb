{
 "cells": [
  {
   "cell_type": "code",
   "execution_count": 1,
   "metadata": {},
   "outputs": [],
   "source": [
    "import pandas as pd\n",
    "import numpy as np"
   ]
  },
  {
   "cell_type": "code",
   "execution_count": 2,
   "metadata": {},
   "outputs": [
    {
     "data": {
      "text/plain": [
       "(67101, 17)"
      ]
     },
     "execution_count": 2,
     "metadata": {},
     "output_type": "execute_result"
    }
   ],
   "source": [
    "import pickle\n",
    "path = 'data/final_taxi.pkl'\n",
    "\n",
    "def load(path):\n",
    "    with open(path, \"rb\") as f:\n",
    "        obj = pickle.load(f)\n",
    "    return obj\n",
    "\n",
    "final_taxi = load(path)\n",
    "final_taxi.shape"
   ]
  },
  {
   "cell_type": "code",
   "execution_count": 3,
   "metadata": {},
   "outputs": [
    {
     "name": "stdout",
     "output_type": "stream",
     "text": [
      "Train: (53680, 17) Test: (13421, 17)\n"
     ]
    }
   ],
   "source": [
    "import sklearn.model_selection\n",
    "\n",
    "train, test = sklearn.model_selection.train_test_split(\n",
    "    final_taxi, train_size = 0.8, test_size = 0.2, random_state = 42)\n",
    "\n",
    "print('Train:', train.shape, 'Test:', test.shape)"
   ]
  },
  {
   "cell_type": "code",
   "execution_count": 4,
   "metadata": {},
   "outputs": [
    {
     "name": "stdout",
     "output_type": "stream",
     "text": [
      "659.0218381998951\n"
     ]
    },
    {
     "data": {
      "image/png": "[encoded data removed]",
      "text/plain": [
       "<Figure size 432x288 with 1 Axes>"
      ]
     },
     "metadata": {
      "needs_background": "light"
     },
     "output_type": "display_data"
    }
   ],
   "source": [
    "import seaborn as sns\n",
    "import matplotlib.pyplot as plt\n",
    "%matplotlib inline\n",
    "\n",
    "print(np.mean(train.groupby('date')['duration'].agg(np.mean).values))\n",
    "ax = sns.boxplot(x = train.date.sort_values(ascending = True), y = 'duration' , data = train)\n",
    "ax.set_xticklabels(ax.get_xticklabels(), rotation=90)\n",
    "ax.set_title('Duration by Date');"
   ]
  },
  {
   "cell_type": "code",
   "execution_count": 5,
   "metadata": {},
   "outputs": [
    {
     "data": {
      "text/html": [
       "<div>\n",
       "<style scoped>\n",
       "    .dataframe tbody tr th:only-of-type {\n",
       "        vertical-align: middle;\n",
       "    }\n",
       "\n",
       "    .dataframe tbody tr th {\n",
       "        vertical-align: top;\n",
       "    }\n",
       "\n",
       "    .dataframe thead th {\n",
       "        text-align: right;\n",
       "    }\n",
       "</style>\n",
       "<table border=\"1\" class=\"dataframe\">\n",
       "  <thead>\n",
       "    <tr style=\"text-align: right;\">\n",
       "      <th></th>\n",
       "      <th>pickup_lon</th>\n",
       "      <th>pickup_lat</th>\n",
       "      <th>dropoff_lon</th>\n",
       "      <th>dropoff_lat</th>\n",
       "      <th>distance</th>\n",
       "      <th>hour_1</th>\n",
       "      <th>hour_2</th>\n",
       "      <th>hour_3</th>\n",
       "      <th>hour_4</th>\n",
       "      <th>hour_5</th>\n",
       "      <th>...</th>\n",
       "      <th>pickup_cluster_2</th>\n",
       "      <th>pickup_cluster_3</th>\n",
       "      <th>pickup_cluster_4</th>\n",
       "      <th>pickup_cluster_5</th>\n",
       "      <th>pickup_cluster_6</th>\n",
       "      <th>pickup_cluster_7</th>\n",
       "      <th>pickup_cluster_8</th>\n",
       "      <th>pickup_cluster_9</th>\n",
       "      <th>region_1</th>\n",
       "      <th>region_2</th>\n",
       "    </tr>\n",
       "  </thead>\n",
       "  <tbody>\n",
       "    <tr>\n",
       "      <th>16548</th>\n",
       "      <td>-0.805821</td>\n",
       "      <td>-0.171761</td>\n",
       "      <td>0.954062</td>\n",
       "      <td>0.624203</td>\n",
       "      <td>0.626326</td>\n",
       "      <td>0</td>\n",
       "      <td>0</td>\n",
       "      <td>0</td>\n",
       "      <td>0</td>\n",
       "      <td>0</td>\n",
       "      <td>...</td>\n",
       "      <td>0</td>\n",
       "      <td>0</td>\n",
       "      <td>0</td>\n",
       "      <td>0</td>\n",
       "      <td>0</td>\n",
       "      <td>0</td>\n",
       "      <td>1</td>\n",
       "      <td>0</td>\n",
       "      <td>1</td>\n",
       "      <td>0</td>\n",
       "    </tr>\n",
       "    <tr>\n",
       "      <th>10750</th>\n",
       "      <td>-0.570281</td>\n",
       "      <td>0.077978</td>\n",
       "      <td>-0.231391</td>\n",
       "      <td>0.234068</td>\n",
       "      <td>-0.826569</td>\n",
       "      <td>0</td>\n",
       "      <td>0</td>\n",
       "      <td>0</td>\n",
       "      <td>0</td>\n",
       "      <td>0</td>\n",
       "      <td>...</td>\n",
       "      <td>0</td>\n",
       "      <td>0</td>\n",
       "      <td>0</td>\n",
       "      <td>0</td>\n",
       "      <td>0</td>\n",
       "      <td>0</td>\n",
       "      <td>1</td>\n",
       "      <td>0</td>\n",
       "      <td>1</td>\n",
       "      <td>0</td>\n",
       "    </tr>\n",
       "    <tr>\n",
       "      <th>10957</th>\n",
       "      <td>-1.571566</td>\n",
       "      <td>-1.020443</td>\n",
       "      <td>-1.216691</td>\n",
       "      <td>-0.201297</td>\n",
       "      <td>-0.190927</td>\n",
       "      <td>0</td>\n",
       "      <td>0</td>\n",
       "      <td>0</td>\n",
       "      <td>0</td>\n",
       "      <td>0</td>\n",
       "      <td>...</td>\n",
       "      <td>0</td>\n",
       "      <td>0</td>\n",
       "      <td>0</td>\n",
       "      <td>0</td>\n",
       "      <td>0</td>\n",
       "      <td>0</td>\n",
       "      <td>0</td>\n",
       "      <td>0</td>\n",
       "      <td>0</td>\n",
       "      <td>0</td>\n",
       "    </tr>\n",
       "    <tr>\n",
       "      <th>89932</th>\n",
       "      <td>-0.673389</td>\n",
       "      <td>-0.204856</td>\n",
       "      <td>-0.152744</td>\n",
       "      <td>-0.014301</td>\n",
       "      <td>-0.679882</td>\n",
       "      <td>0</td>\n",
       "      <td>0</td>\n",
       "      <td>0</td>\n",
       "      <td>0</td>\n",
       "      <td>0</td>\n",
       "      <td>...</td>\n",
       "      <td>0</td>\n",
       "      <td>0</td>\n",
       "      <td>0</td>\n",
       "      <td>0</td>\n",
       "      <td>0</td>\n",
       "      <td>0</td>\n",
       "      <td>1</td>\n",
       "      <td>0</td>\n",
       "      <td>1</td>\n",
       "      <td>0</td>\n",
       "    </tr>\n",
       "    <tr>\n",
       "      <th>54687</th>\n",
       "      <td>1.354249</td>\n",
       "      <td>0.803938</td>\n",
       "      <td>0.897948</td>\n",
       "      <td>0.597992</td>\n",
       "      <td>-1.029136</td>\n",
       "      <td>0</td>\n",
       "      <td>0</td>\n",
       "      <td>0</td>\n",
       "      <td>0</td>\n",
       "      <td>0</td>\n",
       "      <td>...</td>\n",
       "      <td>1</td>\n",
       "      <td>0</td>\n",
       "      <td>0</td>\n",
       "      <td>0</td>\n",
       "      <td>0</td>\n",
       "      <td>0</td>\n",
       "      <td>0</td>\n",
       "      <td>0</td>\n",
       "      <td>0</td>\n",
       "      <td>1</td>\n",
       "    </tr>\n",
       "  </tbody>\n",
       "</table>\n",
       "<p>5 rows × 45 columns</p>\n",
       "</div>"
      ],
      "text/plain": [
       "       pickup_lon  pickup_lat  dropoff_lon  dropoff_lat  distance  hour_1  \\\n",
       "16548   -0.805821   -0.171761     0.954062     0.624203  0.626326       0   \n",
       "10750   -0.570281    0.077978    -0.231391     0.234068 -0.826569       0   \n",
       "10957   -1.571566   -1.020443    -1.216691    -0.201297 -0.190927       0   \n",
       "89932   -0.673389   -0.204856    -0.152744    -0.014301 -0.679882       0   \n",
       "54687    1.354249    0.803938     0.897948     0.597992 -1.029136       0   \n",
       "\n",
       "       hour_2  hour_3  hour_4  hour_5  ...  pickup_cluster_2  \\\n",
       "16548       0       0       0       0  ...                 0   \n",
       "10750       0       0       0       0  ...                 0   \n",
       "10957       0       0       0       0  ...                 0   \n",
       "89932       0       0       0       0  ...                 0   \n",
       "54687       0       0       0       0  ...                 1   \n",
       "\n",
       "       pickup_cluster_3  pickup_cluster_4  pickup_cluster_5  pickup_cluster_6  \\\n",
       "16548                 0                 0                 0                 0   \n",
       "10750                 0                 0                 0                 0   \n",
       "10957                 0                 0                 0                 0   \n",
       "89932                 0                 0                 0                 0   \n",
       "54687                 0                 0                 0                 0   \n",
       "\n",
       "       pickup_cluster_7  pickup_cluster_8  pickup_cluster_9  region_1  \\\n",
       "16548                 0                 1                 0         1   \n",
       "10750                 0                 1                 0         1   \n",
       "10957                 0                 0                 0         0   \n",
       "89932                 0                 1                 0         1   \n",
       "54687                 0                 0                 0         0   \n",
       "\n",
       "       region_2  \n",
       "16548         0  \n",
       "10750         0  \n",
       "10957         0  \n",
       "89932         0  \n",
       "54687         1  \n",
       "\n",
       "[5 rows x 45 columns]"
      ]
     },
     "execution_count": 5,
     "metadata": {},
     "output_type": "execute_result"
    }
   ],
   "source": [
    "from sklearn.preprocessing import StandardScaler\n",
    "\n",
    "num_vars = ['pickup_lon', 'pickup_lat', 'dropoff_lon', 'dropoff_lat', 'distance']\n",
    "cat_vars = ['hour', 'day', 'pickup_cluster', 'region'] \n",
    "\n",
    "scaler = StandardScaler()\n",
    "scaler.fit(train[num_vars])\n",
    "\n",
    "def design_matrix(t):\n",
    "    scaled = t[num_vars].copy()\n",
    "    scaled.iloc[:,:] = scaler.transform(scaled) \n",
    "    categoricals = [pd.get_dummies(t[s], prefix = s, drop_first = True) for s in cat_vars]\n",
    "    return pd.concat([scaled] + categoricals, axis = 1)\n",
    "\n",
    "design_matrix(train).head()"
   ]
  },
  {
   "cell_type": "code",
   "execution_count": 6,
   "metadata": {},
   "outputs": [],
   "source": [
    "from sklearn.linear_model import LinearRegression\n",
    "\n",
    "def rmse(errors):\n",
    "    return np.sqrt(np.mean(errors ** 2))\n",
    "\n",
    "def regression_model(train_data, test_data, outcome = 'duration'):\n",
    "    \n",
    "    train, test = design_matrix(train_data), design_matrix(test_data)\n",
    "    y_train, y_test = train_data.duration, test_data.duration\n",
    "    \n",
    "    if outcome == 'speed':\n",
    "        model = LinearRegression().fit(train, train_data.speed)\n",
    "        predictions = model.predict(test)\n",
    "        duration_pred = test_data.distance / (predictions / 60 / 60)\n",
    "        errors = duration_pred - y_test\n",
    "        return errors\n",
    "    \n",
    "    model = LinearRegression().fit(train, y_train)\n",
    "    predictions = model.predict(test)\n",
    "    errors = predictions - y_test\n",
    "    return errors"
   ]
  },
  {
   "cell_type": "markdown",
   "metadata": {},
   "source": [
    "# Linear Model with Design Matrix features"
   ]
  },
  {
   "cell_type": "code",
   "execution_count": 7,
   "metadata": {},
   "outputs": [
    {
     "data": {
      "text/plain": [
       "254.44598181469135"
      ]
     },
     "execution_count": 7,
     "metadata": {},
     "output_type": "execute_result"
    }
   ],
   "source": [
    "linear_model = regression_model(train, test)\n",
    "linear_rmse = rmse(linear_model)\n",
    "linear_rmse"
   ]
  },
  {
   "cell_type": "markdown",
   "metadata": {},
   "source": [
    "# Model fit to differing Periods of Day"
   ]
  },
  {
   "cell_type": "code",
   "execution_count": 8,
   "metadata": {},
   "outputs": [
    {
     "data": {
      "text/plain": [
       "245.46893038310677"
      ]
     },
     "execution_count": 8,
     "metadata": {},
     "output_type": "execute_result"
    }
   ],
   "source": [
    "day_period_model = []\n",
    "for v in np.unique(train.day_period):\n",
    "    v_train, v_test = train[train.day_period == v], test[test.day_period == v]\n",
    "    v_error = regression_model(v_train, v_test)\n",
    "    day_period_model.extend(v_error)\n",
    "    \n",
    "day_period_rmse = rmse(np.array(day_period_model))\n",
    "day_period_rmse"
   ]
  },
  {
   "cell_type": "markdown",
   "metadata": {},
   "source": [
    "# Predict Duration through Modeling Speed"
   ]
  },
  {
   "cell_type": "code",
   "execution_count": 9,
   "metadata": {},
   "outputs": [
    {
     "data": {
      "text/plain": [
       "241.90367885130465"
      ]
     },
     "execution_count": 9,
     "metadata": {},
     "output_type": "execute_result"
    }
   ],
   "source": [
    "speed_model = regression_model(train, test, outcome = 'speed')\n",
    "speed_rmse = rmse(speed_model)\n",
    "speed_rmse"
   ]
  },
  {
   "cell_type": "markdown",
   "metadata": {},
   "source": [
    "# Tree Regression"
   ]
  },
  {
   "cell_type": "code",
   "execution_count": 10,
   "metadata": {},
   "outputs": [
    {
     "name": "stdout",
     "output_type": "stream",
     "text": [
      "Duration: 240.3278972915743 \n",
      "Speed: 226.65620525928165\n"
     ]
    }
   ],
   "source": [
    "choices = ['day_period', 'region', 'weekend']\n",
    "\n",
    "def tree_regression(outcome = 'duration', model = regression_model):\n",
    "    errors = []\n",
    "    for vs in train.groupby(choices).size().index:\n",
    "        v_train, v_test = train, test\n",
    "        \n",
    "        for v, c in zip(vs, choices):\n",
    "            v_train = v_train[v_train[c] == v]\n",
    "            v_test = v_test[v_test[c] == v]\n",
    "         \n",
    "        vs_model = model(v_train, v_test, outcome = outcome)\n",
    "        errors.extend(vs_model)\n",
    "        \n",
    "    return errors\n",
    "\n",
    "tree_model = tree_regression()\n",
    "speed_tree_model = tree_regression(outcome = 'speed')\n",
    "\n",
    "tree_rmse, tree_speed_rmse = rmse(np.array(tree_model)), rmse(np.array(speed_tree_model))\n",
    "print('Duration:', tree_rmse, '\\nSpeed:', tree_speed_rmse)"
   ]
  },
  {
   "cell_type": "markdown",
   "metadata": {},
   "source": [
    "# XGBoost"
   ]
  },
  {
   "cell_type": "code",
   "execution_count": 11,
   "metadata": {},
   "outputs": [],
   "source": [
    "import xgboost as xgb\n",
    "\n",
    "params = {\n",
    "    'max_depth': 3,  \n",
    "    'eta': 0.3,  \n",
    "    'silent': 1,  \n",
    "    'eval_metric': 'rmse',\n",
    "    'objective': 'reg:linear'} \n",
    "\n",
    "epochs = 20  \n",
    "\n",
    "\n",
    "def xgboost_model(train_data, test_data, param = params, epoch = epochs, outcome = 'duration', plot = False):\n",
    "    \n",
    "    if outcome == 'speed':\n",
    "        y_train, y_test = train_data.speed, test_data.speed\n",
    "        \n",
    "        dtrain = xgb.DMatrix(design_matrix(train_data), label = y_train)\n",
    "        dtest = xgb.DMatrix(design_matrix(test_data), label = y_test)\n",
    "        \n",
    "        xgb_model = xgb.train(param, dtrain, epoch)\n",
    "        xgb_preds = xgb_model.predict(dtest)\n",
    "        \n",
    "        duration_pred = test_data.distance / (xgb_preds / 60 / 60)\n",
    "        errors = duration_pred - test_data.duration\n",
    "        if plot == True:\n",
    "            xgb.plot_importance(xgb_model, height=0.7)\n",
    "        return errors\n",
    "        \n",
    "  \n",
    "    y_train, y_test = train_data.duration, test_data.duration\n",
    "    \n",
    "    dtrain = xgb.DMatrix(design_matrix(train_data), label = y_train)\n",
    "    dtest = xgb.DMatrix(design_matrix(test_data), label = y_test)\n",
    "    \n",
    "    xgb_model = xgb.train(param, dtrain, epoch)\n",
    "    xgb_preds = xgb_model.predict(dtest)\n",
    "    \n",
    "    errors = xgb_preds - y_test\n",
    "    \n",
    "    if plot == True:\n",
    "        xgb.plot_importance(xgb_model, height=0.7)\n",
    "    return errors"
   ]
  },
  {
   "cell_type": "code",
   "execution_count": 12,
   "metadata": {},
   "outputs": [
    {
     "data": {
      "text/plain": [
       "235.9422673124631"
      ]
     },
     "execution_count": 12,
     "metadata": {},
     "output_type": "execute_result"
    },
    {
     "data": {
      "image/png": "[encoded data removed]",
      "text/plain": [
       "<Figure size 432x288 with 1 Axes>"
      ]
     },
     "metadata": {
      "needs_background": "light"
     },
     "output_type": "display_data"
    }
   ],
   "source": [
    "xgb_model = xgboost_model(train, test, plot = True)\n",
    "xgb_rmse = rmse(xgb_model)\n",
    "xgb_rmse"
   ]
  },
  {
   "cell_type": "code",
   "execution_count": 13,
   "metadata": {},
   "outputs": [
    {
     "data": {
      "text/plain": [
       "240.12693594901228"
      ]
     },
     "execution_count": 13,
     "metadata": {},
     "output_type": "execute_result"
    },
    {
     "data": {
      "image/png": "[encoded data removed]",
      "text/plain": [
       "<Figure size 432x288 with 1 Axes>"
      ]
     },
     "metadata": {
      "needs_background": "light"
     },
     "output_type": "display_data"
    }
   ],
   "source": [
    "xgb_speed_model = xgboost_model(train, test, outcome = 'speed', plot = True)\n",
    "xgb_speed_rmse = rmse(xgb_speed_model)\n",
    "xgb_speed_rmse"
   ]
  },
  {
   "cell_type": "code",
   "execution_count": 14,
   "metadata": {},
   "outputs": [
    {
     "name": "stdout",
     "output_type": "stream",
     "text": [
      "Duration: 215.20752216431893 \n",
      "Speed: 218.74343198996652\n"
     ]
    }
   ],
   "source": [
    "xgb_tree_model = tree_regression(model = xgboost_model)\n",
    "xgb_speed_tree_model = tree_regression(outcome = 'speed', model = xgboost_model)\n",
    "\n",
    "xgb_tree_rmse, xgb_tree_speed_rmse = rmse(np.array(xgb_tree_model)), rmse(np.array(xgb_speed_tree_model))\n",
    "print('Duration:', xgb_tree_rmse, '\\nSpeed:', xgb_tree_speed_rmse)"
   ]
  },
  {
   "cell_type": "markdown",
   "metadata": {},
   "source": [
    "# Model Performance Results"
   ]
  },
  {
   "cell_type": "code",
   "execution_count": 15,
   "metadata": {},
   "outputs": [
    {
     "data": {
      "image/png": "[encoded data removed]",
      "text/plain": [
       "<Figure size 432x288 with 1 Axes>"
      ]
     },
     "metadata": {
      "needs_background": "light"
     },
     "output_type": "display_data"
    }
   ],
   "source": [
    "models = ['linear', 'day_period', 'speed', 'tree', 'tree_speed', 'xgb', 'xgb_speed', 'xgb_tree', 'xgb_tree_speed']\n",
    "model_rmse = pd.DataFrame.from_dict({\n",
    "    'Model': models,\n",
    "    'Test RMSE': [eval(m + '_rmse') for m in models]\n",
    "}).sort_values(by  =['Test RMSE']).set_index('Model')\n",
    "\n",
    "ax = sns.barplot(x = 'Test RMSE', y = model_rmse.index, data = model_rmse)"
   ]
  },
  {
   "cell_type": "code",
   "execution_count": 16,
   "metadata": {},
   "outputs": [
    {
     "name": "stdout",
     "output_type": "stream",
     "text": [
      "Requirement already satisfied: xgboost in /srv/conda/envs/data100/lib/python3.7/site-packages (1.0.2)\r\n",
      "Requirement already satisfied: scipy in /srv/conda/envs/data100/lib/python3.7/site-packages (from xgboost) (1.4.1)\r\n",
      "Requirement already satisfied: numpy in /srv/conda/envs/data100/lib/python3.7/site-packages (from xgboost) (1.18.1)\r\n"
     ]
    }
   ],
   "source": [
    "!pip install xgboost"
   ]
  }
 ],
 "metadata": {
  "kernelspec": {
   "display_name": "Python 3",
   "language": "python",
   "name": "python3"
  },
  "language_info": {
   "codemirror_mode": {
    "name": "ipython",
    "version": 3
   },
   "file_extension": ".py",
   "mimetype": "text/x-python",
   "name": "python",
   "nbconvert_exporter": "python",
   "pygments_lexer": "ipython3",
   "version": "3.7.6"
  }
 },
 "nbformat": 4,
 "nbformat_minor": 4
}
